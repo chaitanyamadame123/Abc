{
 "cells": [
  {
   "cell_type": "code",
   "execution_count": 4,
   "metadata": {},
   "outputs": [
    {
     "name": "stdout",
     "output_type": "stream",
     "text": [
      "Interpolated x value for y = 4.5 is 2.7950054306158965\n"
     ]
    }
   ],
   "source": [
    "def lagrange_inverse_interpolation(x_values, y_values, y):\n",
    "    n = len(x_values)\n",
    "    x = 0.0\n",
    "\n",
    "    for i in range(n):\n",
    "        term = 1.0\n",
    "        for j in range(n):\n",
    "            if j != i:\n",
    "                term *= (y - y_values[j]) / (y_values[i] - y_values[j])\n",
    "        x += term * x_values[i]\n",
    "\n",
    "    return x\n",
    "\n",
    "# Given data points\n",
    "x_values = [1.27, 2.25, 2.5, 3.6]\n",
    "y_values = [2.3, 2.95, 3.5, 5.1]\n",
    "\n",
    "\n",
    "y = 4.5\n",
    "\n",
    "# Calculate the interpolated x value\n",
    "interpolated_x = lagrange_inverse_interpolation(x_values, y_values, y)\n",
    "\n",
    "# Print the result\n",
    "print(\"Interpolated x value for y =\", y, \"is\", interpolated_x)\n",
    "\n"
   ]
  },
  {
   "cell_type": "code",
   "execution_count": null,
   "metadata": {},
   "outputs": [],
   "source": []
  },
  {
   "cell_type": "code",
   "execution_count": null,
   "metadata": {},
   "outputs": [],
   "source": []
  },
  {
   "cell_type": "code",
   "execution_count": null,
   "metadata": {},
   "outputs": [],
   "source": []
  }
 ],
 "metadata": {
  "kernelspec": {
   "display_name": "Python 3",
   "language": "python",
   "name": "python3"
  },
  "language_info": {
   "codemirror_mode": {
    "name": "ipython",
    "version": 3
   },
   "file_extension": ".py",
   "mimetype": "text/x-python",
   "name": "python",
   "nbconvert_exporter": "python",
   "pygments_lexer": "ipython3",
   "version": "3.10.6"
  },
  "orig_nbformat": 4
 },
 "nbformat": 4,
 "nbformat_minor": 2
}
